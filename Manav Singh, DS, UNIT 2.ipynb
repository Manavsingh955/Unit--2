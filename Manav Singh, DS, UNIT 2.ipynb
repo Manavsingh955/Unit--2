{
 "cells": [
  {
   "cell_type": "markdown",
   "metadata": {},
   "source": [
    "# CAT VS DOG"
   ]
  },
  {
   "cell_type": "code",
   "execution_count": 1,
   "metadata": {
    "executionInfo": {
     "elapsed": 405,
     "status": "ok",
     "timestamp": 1675514569706,
     "user": {
      "displayName": "KDS LEGEND",
      "userId": "03038166264562070527"
     },
     "user_tz": -330
    },
    "id": "c5tZnjVGbI6B"
   },
   "outputs": [],
   "source": [
    "! mkdir ~/.kaggle\n",
    "! cp kaggle.json ~/.kaggle/"
   ]
  },
  {
   "cell_type": "code",
   "execution_count": 2,
   "metadata": {
    "colab": {
     "base_uri": "https://localhost:8080/"
    },
    "executionInfo": {
     "elapsed": 8942,
     "status": "ok",
     "timestamp": 1675514611434,
     "user": {
      "displayName": "KDS LEGEND",
      "userId": "03038166264562070527"
     },
     "user_tz": -330
    },
    "id": "AaEYZCQgc4TF",
    "outputId": "a51efab4-9ed0-4ac3-cb06-4c02771a8fc3"
   },
   "outputs": [
    {
     "name": "stdout",
     "output_type": "stream",
     "text": [
      "Warning: Your Kaggle API key is readable by other users on this system! To fix this, you can run 'chmod 600 /root/.kaggle/kaggle.json'\n",
      "Downloading dogs-vs-cats.zip to /content\n",
      "100% 1.06G/1.06G [00:07<00:00, 212MB/s]\n",
      "100% 1.06G/1.06G [00:07<00:00, 145MB/s]\n"
     ]
    }
   ],
   "source": [
    "!kaggle datasets download -d salader/dogs-vs-cats"
   ]
  },
  {
   "cell_type": "code",
   "execution_count": 3,
   "metadata": {
    "executionInfo": {
     "elapsed": 13264,
     "status": "ok",
     "timestamp": 1675514677921,
     "user": {
      "displayName": "KDS LEGEND",
      "userId": "03038166264562070527"
     },
     "user_tz": -330
    },
    "id": "PEympuXHc4XM"
   },
   "outputs": [],
   "source": [
    "import zipfile\n",
    "zip_ref = zipfile.ZipFile('/content/dogs-vs-cats.zip','r')\n",
    "zip_ref.extractall('/content')\n",
    "zip_ref.close()"
   ]
  },
  {
   "cell_type": "code",
   "execution_count": 27,
   "metadata": {
    "executionInfo": {
     "elapsed": 593,
     "status": "ok",
     "timestamp": 1675516807120,
     "user": {
      "displayName": "KDS LEGEND",
      "userId": "03038166264562070527"
     },
     "user_tz": -330
    },
    "id": "w3lwRlclc4bI"
   },
   "outputs": [],
   "source": [
    "import tensorflow as tf\n",
    "from tensorflow import keras\n",
    "from tensorflow.keras import Sequential\n",
    "from tensorflow.keras.layers import Conv2D,Dense,MaxPool2D,Flatten,BatchNormalization,Dropout\n",
    "from keras.preprocessing import image\n",
    "import matplotlib.pyplot as plt\n",
    "import cv2\n"
   ]
  },
  {
   "cell_type": "code",
   "execution_count": 6,
   "metadata": {
    "colab": {
     "base_uri": "https://localhost:8080/"
    },
    "executionInfo": {
     "elapsed": 918,
     "status": "ok",
     "timestamp": 1675514782889,
     "user": {
      "displayName": "KDS LEGEND",
      "userId": "03038166264562070527"
     },
     "user_tz": -330
    },
    "id": "lsAHD0Gtc4da",
    "outputId": "e7e29027-be87-4ba9-f67e-ce37e9cb5d6d"
   },
   "outputs": [
    {
     "name": "stdout",
     "output_type": "stream",
     "text": [
      "Found 20000 files belonging to 2 classes.\n"
     ]
    }
   ],
   "source": [
    "training_data = keras.utils.image_dataset_from_directory(\n",
    "    directory = '/content/train',\n",
    "    labels= 'inferred',\n",
    "    label_mode= 'int',\n",
    "    batch_size= 32,\n",
    "    image_size=(256,256)\n",
    ")"
   ]
  },
  {
   "cell_type": "code",
   "execution_count": 7,
   "metadata": {
    "colab": {
     "base_uri": "https://localhost:8080/"
    },
    "executionInfo": {
     "elapsed": 529,
     "status": "ok",
     "timestamp": 1675514903856,
     "user": {
      "displayName": "KDS LEGEND",
      "userId": "03038166264562070527"
     },
     "user_tz": -330
    },
    "id": "b42Hc8Duc4fx",
    "outputId": "d4be1d03-0acf-4437-8441-88e2e9ce6f7c"
   },
   "outputs": [
    {
     "name": "stdout",
     "output_type": "stream",
     "text": [
      "Found 5000 files belonging to 2 classes.\n"
     ]
    }
   ],
   "source": [
    "validation_data = keras.utils.image_dataset_from_directory(\n",
    "    directory ='/content/test' ,\n",
    "    labels= 'inferred',\n",
    "    label_mode= 'int',\n",
    "    batch_size= 32,\n",
    "    image_size=(256,256)\n",
    ")"
   ]
  },
  {
   "cell_type": "code",
   "execution_count": 12,
   "metadata": {
    "executionInfo": {
     "elapsed": 389,
     "status": "ok",
     "timestamp": 1675515033019,
     "user": {
      "displayName": "KDS LEGEND",
      "userId": "03038166264562070527"
     },
     "user_tz": -330
    },
    "id": "DsFzrqaMc4i0"
   },
   "outputs": [],
   "source": [
    "def process(image,label):\n",
    "    image = tf.cast(image/255. ,tf.float32)\n",
    "    return image,label\n",
    "training_data = training_data.map(process)\n",
    "validation_data= validation_data.map(process)"
   ]
  },
  {
   "cell_type": "code",
   "execution_count": 20,
   "metadata": {
    "executionInfo": {
     "elapsed": 463,
     "status": "ok",
     "timestamp": 1675515835632,
     "user": {
      "displayName": "KDS LEGEND",
      "userId": "03038166264562070527"
     },
     "user_tz": -330
    },
    "id": "3geLrQpUc4lO"
   },
   "outputs": [],
   "source": [
    "model = Sequential()\n",
    "model.add(Conv2D(32,kernel_size=(3,3),padding='valid',activation='relu',input_shape = (256,256,3))),\n",
    "model.add(BatchNormalization())\n",
    "model.add(MaxPool2D(pool_size=(2,2),strides=2,padding='valid'))\n",
    "\n",
    "model.add(Conv2D(64,kernel_size=(3,3),padding='valid',activation='relu')),\n",
    "model.add(BatchNormalization())\n",
    "model.add(MaxPool2D(pool_size=(2,2),strides=2,padding='valid'))\n",
    "\n",
    "model.add(Conv2D(128,kernel_size=(3,3),padding='valid',activation='relu')),\n",
    "model.add(BatchNormalization())\n",
    "model.add(MaxPool2D(pool_size=(2,2),strides=2,padding='valid'))\n",
    "\n",
    "model.add(Flatten())\n",
    "\n",
    "model.add(Dense(128,activation='relu'))\n",
    "model.add(Dropout(0.01))\n",
    "model.add(Dense(64,activation='relu'))\n",
    "model.add(Dropout(0.01))\n",
    "model.add(Dense(1,activation='sigmoid'))"
   ]
  },
  {
   "cell_type": "code",
   "execution_count": 21,
   "metadata": {
    "colab": {
     "base_uri": "https://localhost:8080/"
    },
    "executionInfo": {
     "elapsed": 87,
     "status": "ok",
     "timestamp": 1675515838220,
     "user": {
      "displayName": "KDS LEGEND",
      "userId": "03038166264562070527"
     },
     "user_tz": -330
    },
    "id": "mO6eJePcetVk",
    "outputId": "6d6686c1-ab87-47bf-bcaa-384514d6bf67"
   },
   "outputs": [
    {
     "name": "stdout",
     "output_type": "stream",
     "text": [
      "Model: \"sequential_2\"\n",
      "_________________________________________________________________\n",
      " Layer (type)                Output Shape              Param #   \n",
      "=================================================================\n",
      " conv2d_6 (Conv2D)           (None, 254, 254, 32)      896       \n",
      "                                                                 \n",
      " batch_normalization (BatchN  (None, 254, 254, 32)     128       \n",
      " ormalization)                                                   \n",
      "                                                                 \n",
      " max_pooling2d_6 (MaxPooling  (None, 127, 127, 32)     0         \n",
      " 2D)                                                             \n",
      "                                                                 \n",
      " conv2d_7 (Conv2D)           (None, 125, 125, 64)      18496     \n",
      "                                                                 \n",
      " batch_normalization_1 (Batc  (None, 125, 125, 64)     256       \n",
      " hNormalization)                                                 \n",
      "                                                                 \n",
      " max_pooling2d_7 (MaxPooling  (None, 62, 62, 64)       0         \n",
      " 2D)                                                             \n",
      "                                                                 \n",
      " conv2d_8 (Conv2D)           (None, 60, 60, 128)       73856     \n",
      "                                                                 \n",
      " batch_normalization_2 (Batc  (None, 60, 60, 128)      512       \n",
      " hNormalization)                                                 \n",
      "                                                                 \n",
      " max_pooling2d_8 (MaxPooling  (None, 30, 30, 128)      0         \n",
      " 2D)                                                             \n",
      "                                                                 \n",
      " flatten_2 (Flatten)         (None, 115200)            0         \n",
      "                                                                 \n",
      " dense_6 (Dense)             (None, 128)               14745728  \n",
      "                                                                 \n",
      " dropout (Dropout)           (None, 128)               0         \n",
      "                                                                 \n",
      " dense_7 (Dense)             (None, 64)                8256      \n",
      "                                                                 \n",
      " dropout_1 (Dropout)         (None, 64)                0         \n",
      "                                                                 \n",
      " dense_8 (Dense)             (None, 1)                 65        \n",
      "                                                                 \n",
      "=================================================================\n",
      "Total params: 14,848,193\n",
      "Trainable params: 14,847,745\n",
      "Non-trainable params: 448\n",
      "_________________________________________________________________\n"
     ]
    }
   ],
   "source": [
    "model.summary()"
   ]
  },
  {
   "cell_type": "code",
   "execution_count": 23,
   "metadata": {
    "executionInfo": {
     "elapsed": 456,
     "status": "ok",
     "timestamp": 1675515872393,
     "user": {
      "displayName": "KDS LEGEND",
      "userId": "03038166264562070527"
     },
     "user_tz": -330
    },
    "id": "JT3avs-ietYU"
   },
   "outputs": [],
   "source": [
    "model.compile(optimizer = 'adam' , loss = 'binary_crossentropy' , metrics = ['accuracy'])\n"
   ]
  },
  {
   "cell_type": "code",
   "execution_count": 24,
   "metadata": {
    "colab": {
     "base_uri": "https://localhost:8080/"
    },
    "executionInfo": {
     "elapsed": 772649,
     "status": "ok",
     "timestamp": 1675516666999,
     "user": {
      "displayName": "KDS LEGEND",
      "userId": "03038166264562070527"
     },
     "user_tz": -330
    },
    "id": "WgacscbMetba",
    "outputId": "24c638f4-49de-4528-bffe-e65b2e31c6bc"
   },
   "outputs": [
    {
     "name": "stdout",
     "output_type": "stream",
     "text": [
      "Epoch 1/10\n",
      "625/625 [==============================] - 78s 123ms/step - loss: 0.6116 - accuracy: 0.6571 - val_loss: 50376.3555 - val_accuracy: 0.5004\n",
      "Epoch 2/10\n",
      "625/625 [==============================] - 76s 121ms/step - loss: 0.5063 - accuracy: 0.7520 - val_loss: 87440.3047 - val_accuracy: 0.5286\n",
      "Epoch 3/10\n",
      "625/625 [==============================] - 75s 119ms/step - loss: 0.3861 - accuracy: 0.8240 - val_loss: 57143.4766 - val_accuracy: 0.6068\n",
      "Epoch 4/10\n",
      "625/625 [==============================] - 73s 116ms/step - loss: 0.2343 - accuracy: 0.9012 - val_loss: 165148.9844 - val_accuracy: 0.5474\n",
      "Epoch 5/10\n",
      "625/625 [==============================] - 75s 119ms/step - loss: 0.1136 - accuracy: 0.9560 - val_loss: 346443.1875 - val_accuracy: 0.5094\n",
      "Epoch 6/10\n",
      "625/625 [==============================] - 70s 111ms/step - loss: 0.0809 - accuracy: 0.9704 - val_loss: 174973.9844 - val_accuracy: 0.5724\n",
      "Epoch 7/10\n",
      "625/625 [==============================] - 70s 111ms/step - loss: 0.0528 - accuracy: 0.9829 - val_loss: 261647.3281 - val_accuracy: 0.5602\n",
      "Epoch 8/10\n",
      "625/625 [==============================] - 69s 110ms/step - loss: 0.0370 - accuracy: 0.9861 - val_loss: 121575.9844 - val_accuracy: 0.6220\n",
      "Epoch 9/10\n",
      "625/625 [==============================] - 70s 111ms/step - loss: 0.0404 - accuracy: 0.9860 - val_loss: 165172.2188 - val_accuracy: 0.6032\n",
      "Epoch 10/10\n",
      "625/625 [==============================] - 70s 111ms/step - loss: 0.0350 - accuracy: 0.9887 - val_loss: 138423.3281 - val_accuracy: 0.6038\n"
     ]
    }
   ],
   "source": [
    "history = model.fit(training_data,validation_data=validation_data,epochs=10)"
   ]
  },
  {
   "cell_type": "code",
   "execution_count": 25,
   "metadata": {
    "colab": {
     "base_uri": "https://localhost:8080/",
     "height": 282
    },
    "executionInfo": {
     "elapsed": 487,
     "status": "ok",
     "timestamp": 1675516702982,
     "user": {
      "displayName": "KDS LEGEND",
      "userId": "03038166264562070527"
     },
     "user_tz": -330
    },
    "id": "y_8qzULieteC",
    "outputId": "20075d12-a7a7-4a37-fe44-bfab768cbaaa"
   },
   "outputs": [
    {
     "data": {
      "text/plain": [
       "<function matplotlib.pyplot.show(*args, **kw)>"
      ]
     },
     "execution_count": 25,
     "metadata": {},
     "output_type": "execute_result"
    },
    {
     "data": {
      "image/png": "[encoded data removed]",
      "text/plain": [
       "<Figure size 432x288 with 1 Axes>"
      ]
     },
     "metadata": {
      "needs_background": "light"
     },
     "output_type": "display_data"
    }
   ],
   "source": [
    "plt.plot(history.history['accuracy'],color = 'red',label = 'train')\n",
    "plt.plot(history.history['val_accuracy'],color = 'green',label = 'validation')\n",
    "plt.legend()\n",
    "plt.show"
   ]
  },
  {
   "cell_type": "code",
   "execution_count": 57,
   "metadata": {
    "executionInfo": {
     "elapsed": 384,
     "status": "ok",
     "timestamp": 1675517618922,
     "user": {
      "displayName": "KDS LEGEND",
      "userId": "03038166264562070527"
     },
     "user_tz": -330
    },
    "id": "urjMnp3Uethl"
   },
   "outputs": [],
   "source": [
    "test_img = cv2.imread(\"/content/cat2.jpg\")"
   ]
  },
  {
   "cell_type": "code",
   "execution_count": 58,
   "metadata": {
    "colab": {
     "base_uri": "https://localhost:8080/"
    },
    "executionInfo": {
     "elapsed": 5,
     "status": "ok",
     "timestamp": 1675517621006,
     "user": {
      "displayName": "KDS LEGEND",
      "userId": "03038166264562070527"
     },
     "user_tz": -330
    },
    "id": "-s2bp5vec4ov",
    "outputId": "427e9356-237f-4acc-b715-39abd94d8300"
   },
   "outputs": [
    {
     "data": {
      "text/plain": [
       "(168, 300, 3)"
      ]
     },
     "execution_count": 58,
     "metadata": {},
     "output_type": "execute_result"
    }
   ],
   "source": [
    "test_img .shape"
   ]
  },
  {
   "cell_type": "code",
   "execution_count": 59,
   "metadata": {
    "executionInfo": {
     "elapsed": 5,
     "status": "ok",
     "timestamp": 1675517622543,
     "user": {
      "displayName": "KDS LEGEND",
      "userId": "03038166264562070527"
     },
     "user_tz": -330
    },
    "id": "_niacrDel1SV"
   },
   "outputs": [],
   "source": [
    "test_img = cv2.resize(test_img ,(256,256)) "
   ]
  },
  {
   "cell_type": "code",
   "execution_count": 60,
   "metadata": {
    "colab": {
     "base_uri": "https://localhost:8080/",
     "height": 286
    },
    "executionInfo": {
     "elapsed": 15,
     "status": "ok",
     "timestamp": 1675517628335,
     "user": {
      "displayName": "KDS LEGEND",
      "userId": "03038166264562070527"
     },
     "user_tz": -330
    },
    "id": "in3lOQimmiBW",
    "outputId": "1e56958b-18de-45f0-c44b-659a255db88d"
   },
   "outputs": [
    {
     "data": {
      "text/plain": [
       "<matplotlib.image.AxesImage at 0x7fa7a518ef40>"
      ]
     },
     "execution_count": 60,
     "metadata": {},
     "output_type": "execute_result"
    },
    {
     "data": {
      "image/png": "[encoded data removed]",
      "text/plain": [
       "<Figure size 432x288 with 1 Axes>"
      ]
     },
     "metadata": {
      "needs_background": "light"
     },
     "output_type": "display_data"
    }
   ],
   "source": [
    "plt.imshow(test_img )"
   ]
  },
  {
   "cell_type": "code",
   "execution_count": 61,
   "metadata": {
    "executionInfo": {
     "elapsed": 405,
     "status": "ok",
     "timestamp": 1675517631944,
     "user": {
      "displayName": "KDS LEGEND",
      "userId": "03038166264562070527"
     },
     "user_tz": -330
    },
    "id": "VQCp0ar-l1VP"
   },
   "outputs": [],
   "source": [
    "test = test_img.reshape((1,256,256,3)) "
   ]
  },
  {
   "cell_type": "code",
   "execution_count": 63,
   "metadata": {
    "colab": {
     "base_uri": "https://localhost:8080/"
    },
    "executionInfo": {
     "elapsed": 393,
     "status": "ok",
     "timestamp": 1675517668955,
     "user": {
      "displayName": "KDS LEGEND",
      "userId": "03038166264562070527"
     },
     "user_tz": -330
    },
    "id": "0H6055LFl1XR",
    "outputId": "9cf6d6cd-7155-443e-c354-5af07ececabb"
   },
   "outputs": [
    {
     "name": "stdout",
     "output_type": "stream",
     "text": [
      "1/1 [==============================] - 0s 16ms/step\n"
     ]
    }
   ],
   "source": [
    "result = model.predict(test)"
   ]
  },
  {
   "cell_type": "code",
   "execution_count": 64,
   "metadata": {
    "colab": {
     "base_uri": "https://localhost:8080/"
    },
    "executionInfo": {
     "elapsed": 8,
     "status": "ok",
     "timestamp": 1675517747161,
     "user": {
      "displayName": "KDS LEGEND",
      "userId": "03038166264562070527"
     },
     "user_tz": -330
    },
    "id": "cMjUnk0WosWp",
    "outputId": "f850ad8c-604e-440f-e5a0-94b95e85f235"
   },
   "outputs": [
    {
     "name": "stdout",
     "output_type": "stream",
     "text": [
      "its cat\n"
     ]
    }
   ],
   "source": [
    "if result == 0:\n",
    "  print('its cat')\n",
    "else:\n",
    "  print('its dog')  "
   ]
  },
  {
   "cell_type": "code",
   "execution_count": null,
   "metadata": {
    "id": "Un3pH2l0l1au"
   },
   "outputs": [],
   "source": []
  }
 ],
 "metadata": {
  "accelerator": "GPU",
  "colab": {
   "authorship_tag": "ABX9TyPp65Uxd4zEnfS51L0+85wP",
   "provenance": []
  },
  "gpuClass": "standard",
  "kernelspec": {
   "display_name": "Python 3",
   "language": "python",
   "name": "python3"
  },
  "language_info": {
   "codemirror_mode": {
    "name": "ipython",
    "version": 3
   },
   "file_extension": ".py",
   "mimetype": "text/x-python",
   "name": "python",
   "nbconvert_exporter": "python",
   "pygments_lexer": "ipython3",
   "version": "3.8.8"
  }
 },
 "nbformat": 4,
 "nbformat_minor": 1
}
